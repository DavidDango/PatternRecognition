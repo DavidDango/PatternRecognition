{
 "cells": [
  {
   "cell_type": "code",
   "execution_count": 1,
   "metadata": {},
   "outputs": [],
   "source": [
    "import cv2 as cv\n",
    "import numpy as np\n",
    "from tqdm import tqdm_notebook\n",
    "from glob import glob\n",
    "from os.path import join"
   ]
  },
  {
   "cell_type": "code",
   "execution_count": 2,
   "metadata": {},
   "outputs": [],
   "source": [
    "def bb_intersection_over_union(boxA, boxB):\n",
    "    xA = max(boxA[0], boxB[0])\n",
    "    yA = max(boxA[1], boxB[1])\n",
    "    xB = min(boxA[0] + boxA[2], boxB[0] + boxB[2])\n",
    "    yB = min(boxA[1] + boxA[3], boxB[1] + boxB[3])\n",
    " \n",
    "    interArea = max(0, xB - xA + 1) * max(0, yB - yA + 1)\n",
    " \n",
    "    boxAArea = (boxA[2] + 1) * (boxA[3] + 1)\n",
    "    boxBArea = (boxB[2] + 1) * (boxB[3] + 1)\n",
    " \n",
    "    iou = interArea / float(boxAArea + boxBArea - interArea)\n",
    "    \n",
    "    return iou"
   ]
  },
  {
   "cell_type": "code",
   "execution_count": 3,
   "metadata": {},
   "outputs": [],
   "source": [
    "Images = np.load('Images.npy')\n",
    "Coords = np.load('Coords.npy')\n",
    "Labels = np.load('Labels.npy')"
   ]
  },
  {
   "cell_type": "code",
   "execution_count": 4,
   "metadata": {},
   "outputs": [],
   "source": [
    "original_coords = {}\n",
    "for i in range(len(Images)):\n",
    "    if Images[i] in original_coords:\n",
    "        original_coords[Images[i]].append(Coords[i])\n",
    "    else:\n",
    "        original_coords[Images[i]] = [Coords[i]]"
   ]
  },
  {
   "cell_type": "code",
   "execution_count": 5,
   "metadata": {},
   "outputs": [
    {
     "data": {
      "application/vnd.jupyter.widget-view+json": {
       "model_id": "ae7dd1f3c966471f87dac19b52937e71",
       "version_major": 2,
       "version_minor": 0
      },
      "text/plain": [
       "HBox(children=(IntProgress(value=0, max=1), HTML(value='')))"
      ]
     },
     "metadata": {},
     "output_type": "display_data"
    },
    {
     "name": "stdout",
     "output_type": "stream",
     "text": [
      "\n"
     ]
    }
   ],
   "source": [
    "BASEROOT = 'data'\n",
    "FROMNSET, TONSET = (1, 2)\n",
    "\n",
    "CANDIDATES = ['set{0:02d}'.format(nset) \n",
    "              for nset in range(FROMNSET, TONSET)]\n",
    "\n",
    "all_images = []\n",
    "\n",
    "for candidate in tqdm_notebook(CANDIDATES):\n",
    "    setsimages = glob(join(BASEROOT, candidate, '*'))\n",
    "    for fimage in setsimages:\n",
    "        all_images = all_images + glob(join(fimage, '*'))"
   ]
  },
  {
   "cell_type": "code",
   "execution_count": 6,
   "metadata": {},
   "outputs": [
    {
     "data": {
      "application/vnd.jupyter.widget-view+json": {
       "model_id": "da8e4df0409e4b32bf65ac358d26a2e2",
       "version_major": 2,
       "version_minor": 0
      },
      "text/plain": [
       "HBox(children=(IntProgress(value=0, max=10864), HTML(value='')))"
      ]
     },
     "metadata": {},
     "output_type": "display_data"
    },
    {
     "name": "stderr",
     "output_type": "stream",
     "text": [
      "C:\\Users\\David\\.conda\\envs\\dango\\lib\\site-packages\\ipykernel_launcher.py:6: DeprecationWarning: elementwise comparison failed; this will raise an error in the future.\n",
      "  \n"
     ]
    },
    {
     "name": "stdout",
     "output_type": "stream",
     "text": [
      "\n"
     ]
    }
   ],
   "source": [
    "face_cascade = cv.CascadeClassifier('haarcascade_fullbody.xml')\n",
    "calculated = {}\n",
    "for picture in tqdm_notebook(all_images):\n",
    "    grayscale_image = cv.cvtColor(cv.imread(picture), cv.COLOR_BGR2GRAY)\n",
    "    detected_faces = face_cascade.detectMultiScale(grayscale_image)\n",
    "    if detected_faces == ():\n",
    "        calculated[picture] = []\n",
    "    else:\n",
    "        calculated[picture] = detected_faces\n",
    "    if picture not in original_coords:\n",
    "        original_coords[picture] = []"
   ]
  },
  {
   "cell_type": "code",
   "execution_count": 7,
   "metadata": {},
   "outputs": [
    {
     "data": {
      "text/plain": [
       "\"\\nprint(calculated['data\\\\set01\\\\pictures001\\\\I01441.jpg'])\\nprint(original_coords['data\\\\set01\\\\pictures001\\\\I01441.jpg'])\\n\""
      ]
     },
     "execution_count": 7,
     "metadata": {},
     "output_type": "execute_result"
    }
   ],
   "source": [
    "'''\n",
    "print(calculated['data\\\\set01\\\\pictures001\\\\I01441.jpg'])\n",
    "print(original_coords['data\\\\set01\\\\pictures001\\\\I01441.jpg'])\n",
    "'''"
   ]
  },
  {
   "cell_type": "code",
   "execution_count": 8,
   "metadata": {},
   "outputs": [
    {
     "data": {
      "text/plain": [
       "\"\\ntest_picture = 'data\\\\set01\\\\pictures001\\\\I01441.jpg'\\noriginal_image = cv.imread(test_picture)\\ngrayscale_image = cv.cvtColor(original_image, cv.COLOR_BGR2GRAY)\\nfor (column, row, width, height) in calculated[test_picture]:\\n    cv.rectangle(\\n        original_image,\\n        (column, row),\\n        (column + width, row + height),\\n        (0, 255, 0),\\n        2\\n    )\\nfor (column, row, width, height) in original_coords[test_picture]:\\n    cv.rectangle(\\n        original_image,\\n        (column, row),\\n        (column + width, row + height),\\n        (0, 0, 255),\\n        2\\n    )\\ncv.imshow('Image', original_image)\\ncv.waitKey(0)\\ncv.destroyAllWindows()\\n\""
      ]
     },
     "execution_count": 8,
     "metadata": {},
     "output_type": "execute_result"
    }
   ],
   "source": [
    "'''\n",
    "test_picture = 'data\\\\set01\\\\pictures001\\\\I01441.jpg'\n",
    "original_image = cv.imread(test_picture)\n",
    "grayscale_image = cv.cvtColor(original_image, cv.COLOR_BGR2GRAY)\n",
    "for (column, row, width, height) in calculated[test_picture]:\n",
    "    cv.rectangle(\n",
    "        original_image,\n",
    "        (column, row),\n",
    "        (column + width, row + height),\n",
    "        (0, 255, 0),\n",
    "        2\n",
    "    )\n",
    "for (column, row, width, height) in original_coords[test_picture]:\n",
    "    cv.rectangle(\n",
    "        original_image,\n",
    "        (column, row),\n",
    "        (column + width, row + height),\n",
    "        (0, 0, 255),\n",
    "        2\n",
    "    )\n",
    "cv.imshow('Image', original_image)\n",
    "cv.waitKey(0)\n",
    "cv.destroyAllWindows()\n",
    "'''"
   ]
  },
  {
   "cell_type": "code",
   "execution_count": 9,
   "metadata": {},
   "outputs": [
    {
     "data": {
      "application/vnd.jupyter.widget-view+json": {
       "model_id": "53f18ae5e10b4af0b11061d11e1ff4a4",
       "version_major": 2,
       "version_minor": 0
      },
      "text/plain": [
       "HBox(children=(IntProgress(value=0, max=10864), HTML(value='')))"
      ]
     },
     "metadata": {},
     "output_type": "display_data"
    },
    {
     "name": "stdout",
     "output_type": "stream",
     "text": [
      "\n",
      "0.047956296687984006\n"
     ]
    }
   ],
   "source": [
    "score = 0\n",
    "for picture in tqdm_notebook(all_images):\n",
    "    if len(calculated[picture]) > 0:\n",
    "        for item in calculated[picture]:\n",
    "            if len(original_coords[picture]) == 0:\n",
    "                break\n",
    "            for original_item in original_coords[picture]:\n",
    "                score = score + bb_intersection_over_union(item, original_item)\n",
    "score = score/len(all_images)\n",
    "print(score)"
   ]
  }
 ],
 "metadata": {
  "kernelspec": {
   "display_name": "Python 3",
   "language": "python",
   "name": "python3"
  },
  "language_info": {
   "codemirror_mode": {
    "name": "ipython",
    "version": 3
   },
   "file_extension": ".py",
   "mimetype": "text/x-python",
   "name": "python",
   "nbconvert_exporter": "python",
   "pygments_lexer": "ipython3",
   "version": "3.7.3"
  }
 },
 "nbformat": 4,
 "nbformat_minor": 2
}
